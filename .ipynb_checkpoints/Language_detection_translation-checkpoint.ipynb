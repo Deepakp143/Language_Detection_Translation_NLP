{
 "cells": [
  {
   "cell_type": "markdown",
   "id": "dddc2b87",
   "metadata": {},
   "source": [
    "#  Language Translation \n",
    "\n",
    "\n",
    "\n",
    "\n",
    "\n"
   ]
  },
  {
   "cell_type": "markdown",
   "id": "a3e5ffc9",
   "metadata": {},
   "source": [
    "# 1. Language Detection"
   ]
  },
  {
   "cell_type": "code",
   "execution_count": 1,
   "id": "72f26982",
   "metadata": {},
   "outputs": [
    {
     "name": "stdout",
     "output_type": "stream",
     "text": [
      "Detect Language : ur\n",
      "Probability  [ur:0.999999246445326]\n"
     ]
    }
   ],
   "source": [
    "from langdetect import detect,detect_langs,DetectorFactory\n",
    "DetectorFactory.seed = 0\n",
    "\n",
    "\n",
    "sentence = \"آج کا دن بہت خوبصورت ہے\"\n",
    "\n",
    "print(\"Detect Language :\", detect(sentence))\n",
    "print(\"Probability \",detect_langs(sentence))"
   ]
  },
  {
   "cell_type": "code",
   "execution_count": 2,
   "id": "6f877aa4",
   "metadata": {},
   "outputs": [
    {
     "name": "stdout",
     "output_type": "stream",
     "text": [
      "Detect Language: hi\n",
      "Probability: [hi:0.9999986276155775]\n"
     ]
    }
   ],
   "source": [
    "sentence = \"मैं कॉलेज जा रहा हूँ\"\n",
    "\n",
    "print(\"Detect Language:\", detect(sentence))\n",
    "print(\"Probability:\", detect_langs(sentence))"
   ]
  },
  {
   "cell_type": "code",
   "execution_count": 3,
   "id": "16aed43a",
   "metadata": {},
   "outputs": [
    {
     "name": "stdout",
     "output_type": "stream",
     "text": [
      "Detect Language: en\n",
      "Probability: [en:0.9999966013191544]\n"
     ]
    }
   ],
   "source": [
    "sentence = \"We are go to Jaipur today\"\n",
    "\n",
    "print(\"Detect Language:\", detect(sentence))\n",
    "print(\"Probability:\", detect_langs(sentence))"
   ]
  },
  {
   "cell_type": "markdown",
   "id": "8c7ddee3",
   "metadata": {},
   "source": [
    "# Language Translation"
   ]
  },
  {
   "cell_type": "code",
   "execution_count": 5,
   "id": "5e767b24",
   "metadata": {},
   "outputs": [
    {
     "name": "stdout",
     "output_type": "stream",
     "text": [
      "Translated Text: Today's day is very beautiful\n"
     ]
    }
   ],
   "source": [
    "from googletrans import Translator\n",
    "\n",
    "translator = Translator()\n",
    "\n",
    "sentence = \"آج کا دن بہت خوبصورت ہے\"\n",
    "translate_text = translator.translate(sentence, src='ur', dest='en')\n",
    "\n",
    "print(\"Translated Text:\", translate_text.text)\n"
   ]
  },
  {
   "cell_type": "code",
   "execution_count": 6,
   "id": "04cc2cf1",
   "metadata": {},
   "outputs": [
    {
     "name": "stdout",
     "output_type": "stream",
     "text": [
      "Translated Text: You are very beautiful\n"
     ]
    }
   ],
   "source": [
    "sentence =  \"आप बहुत खूबसूरत हैं\"\n",
    "translate_text = translator.translate(sentence, src='hi', dest='en')\n",
    "\n",
    "print(\"Translated Text:\", translate_text.text)"
   ]
  },
  {
   "cell_type": "markdown",
   "id": "1272dc35",
   "metadata": {},
   "source": [
    "# Detections and translation"
   ]
  },
  {
   "cell_type": "code",
   "execution_count": 7,
   "id": "0a3d3af4",
   "metadata": {},
   "outputs": [],
   "source": [
    "from langdetect import detect\n",
    "from googletrans import Translator\n",
    "\n",
    "def detect_and_translate(text, target_lang):\n",
    "    # Detect language\n",
    "    result_lang = detect(text)\n",
    "    \n",
    "    # Translate language\n",
    "    translator = Translator()\n",
    "    translate_text = translator.translate(text, dest=target_lang).text\n",
    "\n",
    "    return result_lang, translate_text "
   ]
  },
  {
   "cell_type": "code",
   "execution_count": 9,
   "id": "d5a51d47",
   "metadata": {},
   "outputs": [
    {
     "name": "stdout",
     "output_type": "stream",
     "text": [
      "Language: hi\n",
      "Translation: Today is very beautiful\n"
     ]
    }
   ],
   "source": [
    "sentence = \"आज का दिन बहुत खूबसूरत है\"\n",
    "\n",
    "result_lang, translate_text = detect_and_translate(sentence, target_lang='en')\n",
    "\n",
    "print(\"Language:\", result_lang)\n",
    "print(\"Translation:\", translate_text)"
   ]
  },
  {
   "cell_type": "code",
   "execution_count": 10,
   "id": "2959e1a4",
   "metadata": {},
   "outputs": [
    {
     "name": "stdout",
     "output_type": "stream",
     "text": [
      "Language: ur\n",
      "Translation: I love you\n"
     ]
    }
   ],
   "source": [
    "sentence = \"مجھے تم سے پیار ہے\"\n",
    "\n",
    "# Detect and translate\n",
    "result_lang, translate_text = detect_and_translate(sentence, target_lang='en')\n",
    "\n",
    "print(\"Language:\", result_lang)\n",
    "print(\"Translation:\", translate_text)"
   ]
  },
  {
   "cell_type": "code",
   "execution_count": 11,
   "id": "e06906db",
   "metadata": {},
   "outputs": [
    {
     "name": "stdout",
     "output_type": "stream",
     "text": [
      "Language: en\n",
      "Translation: ہم ٹکنالوجی کے دور میں رہ رہے ہیں۔\n"
     ]
    }
   ],
   "source": [
    "sentence = \"We are living in the era of technology.\"\n",
    "result_lang, translate_text = detect_and_translate(sentence, target_lang='ur')\n",
    "\n",
    "print(\"Language:\", result_lang)\n",
    "print(\"Translation:\", translate_text)"
   ]
  },
  {
   "cell_type": "code",
   "execution_count": null,
   "id": "4805e825",
   "metadata": {},
   "outputs": [],
   "source": []
  }
 ],
 "metadata": {
  "kernelspec": {
   "display_name": "Python 3 (ipykernel)",
   "language": "python",
   "name": "python3"
  },
  "language_info": {
   "codemirror_mode": {
    "name": "ipython",
    "version": 3
   },
   "file_extension": ".py",
   "mimetype": "text/x-python",
   "name": "python",
   "nbconvert_exporter": "python",
   "pygments_lexer": "ipython3",
   "version": "3.9.10"
  }
 },
 "nbformat": 4,
 "nbformat_minor": 5
}
